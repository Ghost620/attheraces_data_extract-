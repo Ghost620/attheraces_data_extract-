{
 "cells": [
  {
   "cell_type": "code",
   "execution_count": null,
   "id": "11c4ae2e",
   "metadata": {},
   "outputs": [
    {
     "name": "stderr",
     "output_type": "stream",
     "text": [
      "[WDM] - \n",
      "\n",
      "[WDM] - ====== WebDriver manager ======\n",
      "[WDM] - Current google-chrome version is 99.0.4844\n",
      "[WDM] - Get LATEST driver version for 99.0.4844\n",
      "[WDM] - Driver [C:\\Users\\fagho\\.wdm\\drivers\\chromedriver\\win32\\99.0.4844.51\\chromedriver.exe] found in cache\n",
      "<ipython-input-8-62eaf50fca0a>:7: DeprecationWarning: executable_path has been deprecated, please pass in a Service object\n",
      "  driver = webdriver.Chrome(ChromeDriverManager().install())\n"
     ]
    },
    {
     "name": "stdout",
     "output_type": "stream",
     "text": [
      "https://www.attheraces.com/racecard/Lingfield/02-March-2022/1230\n",
      "Sectional Times\n",
      "https://www.attheraces.com/racecard/Lingfield/02-March-2022/1300\n",
      "Sectional Times\n",
      "https://www.attheraces.com/racecard/Lingfield/02-March-2022/1335\n",
      "Sectional Times\n",
      "https://www.attheraces.com/racecard/Lingfield/02-March-2022/1410\n",
      "Sectional Times\n",
      "https://www.attheraces.com/racecard/Lingfield/02-March-2022/1445\n",
      "Sectional Times\n",
      "https://www.attheraces.com/racecard/Lingfield/02-March-2022/1520\n",
      "Sectional Times\n",
      "https://www.attheraces.com/racecard/Lingfield/02-March-2022/1555\n"
     ]
    }
   ],
   "source": [
    "from selenium import webdriver\n",
    "from webdriver_manager.chrome import ChromeDriverManager\n",
    "from selenium.webdriver.common.keys import Keys\n",
    "import time\n",
    "from selenium.webdriver.common.action_chains import ActionChains\n",
    "\n",
    "driver = webdriver.Chrome(ChromeDriverManager().install())\n",
    "\n",
    "from selenium.webdriver.support.ui import WebDriverWait\n",
    "from selenium.webdriver.common.by import By\n",
    "from selenium.webdriver.support import expected_conditions as EC\n",
    "\n",
    "from selenium.webdriver.support.ui import Select\n",
    "\n",
    "a = ActionChains(driver)\n",
    "\n",
    "driver.get(\"https://www.attheraces.com/results\")\n",
    "driver.implicitly_wait(1)\n",
    "driver.maximize_window()\n",
    "\n",
    "interested_courses = ['Ascot','Bangor-on-dee','Bath','Brighton','Chepstow','Chester','Doncaster','Fakenham','Ffos las','Fontwell','Hereford','Hexham','Lingfield','Newcastle','Newton abbot','Plumpton','Ripon','Sedgefield','Southwell','Uttoxeter','Windsor','Wolverhampton','Worcester','Yarmouth']\n",
    "\n",
    "date_input = driver.find_element_by_xpath(\"//input[@id='race-nav-datepicker']\")\n",
    "date_input.click()\n",
    "\n",
    "value1 = driver.find_element_by_xpath(\"//select[@class='pika-select pika-select-month']/option[3]\").text\n",
    "select_month = Select(driver.find_element_by_xpath(\"//select[@class='pika-select pika-select-month']\"))\n",
    "driver.find_element_by_xpath(\"//select[@class='pika-select pika-select-month']\").click()\n",
    "select_month.select_by_visible_text(value1)\n",
    "\n",
    "value2 = driver.find_element_by_xpath(\"//table[@class='pika-table']/tbody/tr/td[3]/button\").click()\n",
    "\n",
    "a.move_to_element(date_input).perform()\n",
    "time.sleep(3)\n",
    "race_courses = driver.find_elements_by_xpath(\"//div[@id='tab-race-nav--uk']/div/div/div/div/div\")\n",
    "\n",
    "for i,race_course in enumerate(race_courses):\n",
    "    if (i>=1):\n",
    "        \n",
    "        course_name = driver.find_element_by_xpath(f\"//div[@id='tab-race-nav--uk']/div/div/div/div/div[{i+1}]\").text\n",
    "        \n",
    "        if course_name.strip() in interested_courses:\n",
    "        \n",
    "            races = driver.find_elements_by_xpath(f\"//div[@id='tab-race-nav--uk']/div/div/div/div/div[{i+1}]/div/div/ul/li\")\n",
    "            data = []\n",
    "            \n",
    "            for j,rac in enumerate(races):\n",
    "                race = driver.find_element_by_xpath(f\"//div[@id='tab-race-nav--uk']/div/div/div/div/div[{i+1}]/div/div/ul/li[{j+1}]/a\").get_attribute('href')\n",
    "                print(race)\n",
    "                driver.get(race)\n",
    "                sectional_times = driver.find_element_by_xpath(\"//ul[@class='tabs__links tabs__links--grey js-tabs__links']/li[2]/a\").get_attribute('href')\n",
    "                driver.get(sectional_times)\n",
    "                print('Sectional Times')\n",
    "                \n",
    "                driver.back()\n",
    "            print(len(races))\n",
    "            print(course_name)"
   ]
  },
  {
   "cell_type": "code",
   "execution_count": null,
   "id": "1956f059",
   "metadata": {},
   "outputs": [],
   "source": []
  }
 ],
 "metadata": {
  "kernelspec": {
   "display_name": "Python 3 (ipykernel)",
   "language": "python",
   "name": "python3"
  },
  "language_info": {
   "codemirror_mode": {
    "name": "ipython",
    "version": 3
   },
   "file_extension": ".py",
   "mimetype": "text/x-python",
   "name": "python",
   "nbconvert_exporter": "python",
   "pygments_lexer": "ipython3",
   "version": "3.9.12"
  }
 },
 "nbformat": 4,
 "nbformat_minor": 5
}
